{
 "cells": [
  {
   "cell_type": "code",
   "execution_count": 1,
   "id": "93848669",
   "metadata": {},
   "outputs": [],
   "source": [
    "import pandas as pd"
   ]
  },
  {
   "cell_type": "code",
   "execution_count": 10,
   "id": "b9504721",
   "metadata": {},
   "outputs": [],
   "source": [
    "df = pd.read_csv('Citations.csv', delimiter=r\"\\s+\",names=['Article ID', 'Citation ID'])"
   ]
  },
  {
   "cell_type": "code",
   "execution_count": 11,
   "id": "a6cc3d2d",
   "metadata": {},
   "outputs": [
    {
     "data": {
      "text/html": [
       "<div>\n",
       "<style scoped>\n",
       "    .dataframe tbody tr th:only-of-type {\n",
       "        vertical-align: middle;\n",
       "    }\n",
       "\n",
       "    .dataframe tbody tr th {\n",
       "        vertical-align: top;\n",
       "    }\n",
       "\n",
       "    .dataframe thead th {\n",
       "        text-align: right;\n",
       "    }\n",
       "</style>\n",
       "<table border=\"1\" class=\"dataframe\">\n",
       "  <thead>\n",
       "    <tr style=\"text-align: right;\">\n",
       "      <th></th>\n",
       "      <th>Article ID</th>\n",
       "      <th>Citation ID</th>\n",
       "    </tr>\n",
       "  </thead>\n",
       "  <tbody>\n",
       "    <tr>\n",
       "      <th>0</th>\n",
       "      <td>1001</td>\n",
       "      <td>9304045</td>\n",
       "    </tr>\n",
       "    <tr>\n",
       "      <th>1</th>\n",
       "      <td>1001</td>\n",
       "      <td>9308122</td>\n",
       "    </tr>\n",
       "    <tr>\n",
       "      <th>2</th>\n",
       "      <td>1001</td>\n",
       "      <td>9309097</td>\n",
       "    </tr>\n",
       "    <tr>\n",
       "      <th>3</th>\n",
       "      <td>1001</td>\n",
       "      <td>9311042</td>\n",
       "    </tr>\n",
       "    <tr>\n",
       "      <th>4</th>\n",
       "      <td>1001</td>\n",
       "      <td>9401139</td>\n",
       "    </tr>\n",
       "  </tbody>\n",
       "</table>\n",
       "</div>"
      ],
      "text/plain": [
       "   Article ID  Citation ID\n",
       "0        1001      9304045\n",
       "1        1001      9308122\n",
       "2        1001      9309097\n",
       "3        1001      9311042\n",
       "4        1001      9401139"
      ]
     },
     "execution_count": 11,
     "metadata": {},
     "output_type": "execute_result"
    }
   ],
   "source": [
    "df.head()"
   ]
  },
  {
   "cell_type": "code",
   "execution_count": 12,
   "id": "38a60551",
   "metadata": {},
   "outputs": [],
   "source": [
    "import networkx as nx"
   ]
  },
  {
   "cell_type": "code",
   "execution_count": 13,
   "id": "ed8c5474",
   "metadata": {},
   "outputs": [],
   "source": [
    "G = nx.DiGraph()"
   ]
  },
  {
   "cell_type": "code",
   "execution_count": 14,
   "id": "f454f61e",
   "metadata": {},
   "outputs": [],
   "source": [
    "# Collect unique article and citation IDs\n",
    "nodes = set(df['Article ID']).union(set(df['Citation ID']))\n",
    "\n",
    "\n"
   ]
  },
  {
   "cell_type": "code",
   "execution_count": 16,
   "id": "d7751dc6",
   "metadata": {},
   "outputs": [
    {
     "data": {
      "text/plain": [
       "27770"
      ]
     },
     "execution_count": 16,
     "metadata": {},
     "output_type": "execute_result"
    }
   ],
   "source": [
    "len(nodes)"
   ]
  },
  {
   "cell_type": "code",
   "execution_count": 17,
   "id": "d7118111",
   "metadata": {},
   "outputs": [],
   "source": [
    "G.add_nodes_from(nodes)"
   ]
  },
  {
   "cell_type": "code",
   "execution_count": 18,
   "id": "03c15b21",
   "metadata": {},
   "outputs": [],
   "source": [
    "for row in df.iterrows():\n",
    "    article_id = row[1]['Article ID']\n",
    "    citation_id = row[1]['Citation ID']\n",
    "    \n",
    "    # Add an edge from the article to its citation\n",
    "    G.add_edge(article_id, citation_id)"
   ]
  },
  {
   "cell_type": "code",
   "execution_count": 19,
   "id": "c90e7858",
   "metadata": {},
   "outputs": [
    {
     "name": "stdout",
     "output_type": "stream",
     "text": [
      "Number of nodes: 27770\n",
      "Number of edges: 352807\n"
     ]
    }
   ],
   "source": [
    "num_nodes = G.number_of_nodes()\n",
    "num_edges = G.number_of_edges()\n",
    "\n",
    "print(\"Number of nodes:\", num_nodes)\n",
    "print(\"Number of edges:\", num_edges)"
   ]
  },
  {
   "cell_type": "code",
   "execution_count": 29,
   "id": "84e05d57",
   "metadata": {},
   "outputs": [
    {
     "name": "stdout",
     "output_type": "stream",
     "text": [
      "Average degree: 25.409218581202737\n"
     ]
    }
   ],
   "source": [
    "avg_degree = sum(dict(G.degree()).values()) / num_nodes\n",
    "print(\"Average degree:\", avg_degree)"
   ]
  },
  {
   "cell_type": "code",
   "execution_count": 30,
   "id": "e5678611",
   "metadata": {},
   "outputs": [
    {
     "data": {
      "image/png": "[encoded data removed]",
      "text/plain": [
       "<Figure size 432x288 with 1 Axes>"
      ]
     },
     "metadata": {
      "needs_background": "light"
     },
     "output_type": "display_data"
    }
   ],
   "source": [
    "import matplotlib.pyplot as plt\n",
    "\n",
    "degree_sequence = [degree for node, degree in G.degree()]\n",
    "plt.hist(degree_sequence, bins='auto', alpha=0.7,range=(0, 200))\n",
    "plt.xlabel(\"Degree\")\n",
    "plt.ylabel(\"Frequency\")\n",
    "plt.title(\"Degree Histogram\")\n",
    "plt.show()"
   ]
  },
  {
   "cell_type": "code",
   "execution_count": 36,
   "id": "10e29c05",
   "metadata": {},
   "outputs": [
    {
     "name": "stdout",
     "output_type": "stream",
     "text": [
      "Size of the largest weakly connected component: 27400\n"
     ]
    }
   ],
   "source": [
    "largest_weak_component = max(nx.weakly_connected_components(G), key=len)\n",
    "\n",
    "largest_weak_subgraph = G.subgraph(largest_weak_component)\n",
    "\n",
    "print(\"Size of the largest weakly connected component:\", largest_weak_subgraph.number_of_nodes())\n",
    "\n"
   ]
  },
  {
   "cell_type": "code",
   "execution_count": 49,
   "id": "da566d47",
   "metadata": {},
   "outputs": [],
   "source": [
    "def page_rank(graph, beta=0.9, max_iterations=100, tolerance=1e-6):\n",
    "    pagerank = {node: 1.0 for node in graph.nodes}\n",
    "    for i in range(max_iterations):\n",
    "        new_pagerank = {}\n",
    "        delta = 0.0\n",
    "        for node in graph.nodes:\n",
    "            rank_sum = sum(pagerank[parent] / graph.out_degree(parent) for parent in graph.predecessors(node))\n",
    "            new_pagerank[node] = (1 - beta) + beta * rank_sum\n",
    "            delta += abs(new_pagerank[node] - pagerank[node])\n",
    "        pagerank = new_pagerank\n",
    "        if delta < tolerance:\n",
    "            break\n",
    "        print(i)\n",
    "        print(delta)\n",
    "\n",
    "    return pagerank"
   ]
  },
  {
   "cell_type": "code",
   "execution_count": null,
   "id": "1a879dcb",
   "metadata": {},
   "outputs": [],
   "source": []
  },
  {
   "cell_type": "code",
   "execution_count": 50,
   "id": "4f893099",
   "metadata": {},
   "outputs": [
    {
     "name": "stdout",
     "output_type": "stream",
     "text": [
      "0\n",
      "24351.773610004566\n",
      "1\n",
      "10231.74953843733\n",
      "2\n",
      "5430.789720052238\n",
      "3\n",
      "3183.502719503025\n",
      "4\n",
      "1959.7634571153017\n",
      "5\n",
      "1301.9537262844294\n",
      "6\n",
      "931.5774785011113\n",
      "7\n",
      "667.8410569178719\n",
      "8\n",
      "460.6123301964745\n",
      "9\n",
      "303.52714241226533\n",
      "10\n",
      "191.03831183227524\n",
      "11\n",
      "114.9920498696277\n",
      "12\n",
      "66.49249564966026\n",
      "13\n",
      "37.827046688896445\n",
      "14\n",
      "20.928105291573548\n",
      "15\n",
      "11.716068188975676\n",
      "16\n",
      "6.693843041403799\n",
      "17\n",
      "4.092928635629868\n",
      "18\n",
      "2.7109176154517147\n",
      "19\n",
      "1.9757239791541867\n",
      "20\n",
      "1.5521369826636233\n",
      "21\n",
      "1.2897891725259378\n",
      "22\n",
      "1.1075480219365668\n",
      "23\n",
      "0.9703256566850469\n",
      "24\n",
      "0.859145252807946\n",
      "25\n",
      "0.7656151673551621\n",
      "26\n",
      "0.6846264377981834\n",
      "27\n",
      "0.6136119196498416\n",
      "28\n",
      "0.5506803366140719\n",
      "29\n",
      "0.49467169690735463\n",
      "30\n",
      "0.444609325257507\n",
      "31\n",
      "0.3997857459766377\n",
      "32\n",
      "0.3595749993385214\n",
      "33\n",
      "0.32347505182569697\n",
      "34\n",
      "0.29103592274751255\n",
      "35\n",
      "0.26187595406054553\n",
      "36\n",
      "0.23565202747532848\n",
      "37\n",
      "0.2120644413818607\n",
      "38\n",
      "0.19084356038667147\n",
      "39\n",
      "0.17175030382560513\n",
      "40\n",
      "0.15456953028187104\n",
      "41\n",
      "0.13910903484645246\n",
      "42\n",
      "0.1251958449414763\n",
      "43\n",
      "0.11267484959016441\n",
      "44\n",
      "0.10140645378896829\n",
      "45\n",
      "0.09126524612913359\n",
      "46\n",
      "0.08213835842436014\n",
      "47\n",
      "0.07392429833376479\n",
      "48\n",
      "0.06653172365459194\n",
      "49\n",
      "0.059878461783418324\n",
      "50\n",
      "0.05389055777474659\n",
      "51\n",
      "0.04850146623971158\n",
      "52\n",
      "0.04365129650430655\n",
      "53\n",
      "0.03928615255355976\n",
      "54\n",
      "0.035357528051563794\n",
      "55\n",
      "0.03182176951993161\n",
      "56\n",
      "0.02863958886337023\n",
      "57\n",
      "0.025775627680779248\n",
      "58\n",
      "0.023198063426259352\n",
      "59\n",
      "0.020878256161166606\n",
      "60\n",
      "0.01879042994760033\n",
      "61\n",
      "0.016911386581793544\n",
      "62\n",
      "0.015220247682578542\n",
      "63\n",
      "0.013698222764597756\n",
      "64\n",
      "0.012328400390879582\n",
      "65\n",
      "0.011095560291104756\n",
      "66\n",
      "0.009986004222599362\n",
      "67\n",
      "0.00898740377592705\n",
      "68\n",
      "0.008088663382327277\n",
      "69\n",
      "0.00727979703401456\n",
      "70\n",
      "0.006551817324051121\n",
      "71\n",
      "0.005896635587605684\n",
      "72\n",
      "0.0053069720262356734\n",
      "73\n",
      "0.004776274821890622\n",
      "74\n",
      "0.004298647338511763\n",
      "75\n",
      "0.0038687826040491036\n",
      "76\n",
      "0.003481904343191747\n",
      "77\n",
      "0.0031337139085508697\n",
      "78\n",
      "0.002820342517555377\n",
      "79\n",
      "0.002538308265690542\n",
      "80\n",
      "0.002284477439026378\n",
      "81\n",
      "0.0020560296950939\n",
      "82\n",
      "0.0018504267255819856\n",
      "83\n",
      "0.0016653840529968628\n",
      "84\n",
      "0.0014988456476700274\n",
      "85\n",
      "0.001348961082887512\n",
      "86\n",
      "0.001214064974604634\n",
      "87\n",
      "0.0010926584771348696\n",
      "88\n",
      "0.0009833926294204876\n",
      "89\n",
      "0.0008850533664764015\n",
      "90\n",
      "0.0007965480298375294\n",
      "91\n",
      "0.0007168932268634409\n",
      "92\n",
      "0.0006452039041867086\n",
      "93\n",
      "0.000580683513779684\n",
      "94\n",
      "0.0005226151624103947\n",
      "95\n",
      "0.0004703536461779234\n",
      "96\n",
      "0.00042331828156133566\n",
      "97\n",
      "0.0003809864534006502\n",
      "98\n",
      "0.000342887808052722\n",
      "99\n",
      "0.0003085990272389538\n"
     ]
    }
   ],
   "source": [
    "pagerank = page_rank(largest_weak_subgraph)"
   ]
  },
  {
   "cell_type": "code",
   "execution_count": 51,
   "id": "88dd74b5",
   "metadata": {},
   "outputs": [],
   "source": [
    "sorted_nodes = sorted(pagerank, key=pagerank.get, reverse=True)\n"
   ]
  },
  {
   "cell_type": "code",
   "execution_count": 52,
   "id": "3702ee83",
   "metadata": {},
   "outputs": [
    {
     "name": "stdout",
     "output_type": "stream",
     "text": [
      "9207016\n",
      "9201015\n",
      "9407087\n",
      "9503124\n",
      "9510017\n",
      "9402044\n",
      "9410167\n",
      "9711200\n",
      "9408099\n",
      "9402002\n"
     ]
    }
   ],
   "source": [
    "for node in sorted_nodes[:10]:\n",
    "    print(node)"
   ]
  },
  {
   "cell_type": "code",
   "execution_count": 59,
   "id": "00d43e8d",
   "metadata": {},
   "outputs": [],
   "source": [
    "articles_df = pd.read_csv('ArticleNodes.csv',header=None,names=['Article ID', 'title','year','category','detail'])"
   ]
  },
  {
   "cell_type": "code",
   "execution_count": 60,
   "id": "54618ad0",
   "metadata": {},
   "outputs": [
    {
     "data": {
      "text/html": [
       "<div>\n",
       "<style scoped>\n",
       "    .dataframe tbody tr th:only-of-type {\n",
       "        vertical-align: middle;\n",
       "    }\n",
       "\n",
       "    .dataframe tbody tr th {\n",
       "        vertical-align: top;\n",
       "    }\n",
       "\n",
       "    .dataframe thead th {\n",
       "        text-align: right;\n",
       "    }\n",
       "</style>\n",
       "<table border=\"1\" class=\"dataframe\">\n",
       "  <thead>\n",
       "    <tr style=\"text-align: right;\">\n",
       "      <th></th>\n",
       "      <th>Article ID</th>\n",
       "      <th>title</th>\n",
       "      <th>year</th>\n",
       "      <th>category</th>\n",
       "      <th>detail</th>\n",
       "    </tr>\n",
       "  </thead>\n",
       "  <tbody>\n",
       "    <tr>\n",
       "      <th>0</th>\n",
       "      <td>1001</td>\n",
       "      <td>Compactification  Geometry and Duality: N=2</td>\n",
       "      <td>2000</td>\n",
       "      <td>NaN</td>\n",
       "      <td>These are notes based on lectures given at T...</td>\n",
       "    </tr>\n",
       "    <tr>\n",
       "      <th>1</th>\n",
       "      <td>1002</td>\n",
       "      <td>Domain Walls and Massive Gauged Supergravity P...</td>\n",
       "      <td>2000</td>\n",
       "      <td>Class.Quant.Grav.</td>\n",
       "      <td>We point out that massive gauged supergravit...</td>\n",
       "    </tr>\n",
       "    <tr>\n",
       "      <th>2</th>\n",
       "      <td>1003</td>\n",
       "      <td>Comment on  Metric Fluctuations in Brane Worlds</td>\n",
       "      <td>2000</td>\n",
       "      <td>NaN</td>\n",
       "      <td>Recently- Ivanov and Volovich (hep-th/991224...</td>\n",
       "    </tr>\n",
       "    <tr>\n",
       "      <th>3</th>\n",
       "      <td>1004</td>\n",
       "      <td>Moving Mirrors and Thermodynamic Paradoxes</td>\n",
       "      <td>2000</td>\n",
       "      <td>Phys.Rev.</td>\n",
       "      <td>Quantum fields responding to  moving mirrors...</td>\n",
       "    </tr>\n",
       "    <tr>\n",
       "      <th>4</th>\n",
       "      <td>1005</td>\n",
       "      <td>Bundles of chiral blocks and boundary conditio...</td>\n",
       "      <td>2000</td>\n",
       "      <td>NaN</td>\n",
       "      <td>Various aspects of spaces of chiral blocks a...</td>\n",
       "    </tr>\n",
       "    <tr>\n",
       "      <th>...</th>\n",
       "      <td>...</td>\n",
       "      <td>...</td>\n",
       "      <td>...</td>\n",
       "      <td>...</td>\n",
       "      <td>...</td>\n",
       "    </tr>\n",
       "    <tr>\n",
       "      <th>29550</th>\n",
       "      <td>9912290</td>\n",
       "      <td>Shuffling quantum field theory</td>\n",
       "      <td>1999</td>\n",
       "      <td>Lett.Math.Phys.</td>\n",
       "      <td>We discuss shuffle identities between Feynma...</td>\n",
       "    </tr>\n",
       "    <tr>\n",
       "      <th>29551</th>\n",
       "      <td>9912291</td>\n",
       "      <td>Small object limit of Casimir effect and the s...</td>\n",
       "      <td>1999</td>\n",
       "      <td>Phys.Rev.</td>\n",
       "      <td>We show a simple way of deriving the Casimir...</td>\n",
       "    </tr>\n",
       "    <tr>\n",
       "      <th>29552</th>\n",
       "      <td>9912292</td>\n",
       "      <td>1/4 PBGS and Superparticle Actions</td>\n",
       "      <td>1999</td>\n",
       "      <td>NaN</td>\n",
       "      <td>We construct the worldline superfield massiv...</td>\n",
       "    </tr>\n",
       "    <tr>\n",
       "      <th>29553</th>\n",
       "      <td>9912293</td>\n",
       "      <td>Corrections to the Abelian Born-Infeld Action ...</td>\n",
       "      <td>1999</td>\n",
       "      <td>JHEP</td>\n",
       "      <td>In a recent paper Seiberg and Witten have ar...</td>\n",
       "    </tr>\n",
       "    <tr>\n",
       "      <th>29554</th>\n",
       "      <td>9912294</td>\n",
       "      <td>Relativistic particle interaction with a weak ...</td>\n",
       "      <td>1999</td>\n",
       "      <td>NaN</td>\n",
       "      <td>Schrodinger equation with two-component wave...</td>\n",
       "    </tr>\n",
       "  </tbody>\n",
       "</table>\n",
       "<p>29555 rows × 5 columns</p>\n",
       "</div>"
      ],
      "text/plain": [
       "       Article ID                                              title  year  \\\n",
       "0            1001        Compactification  Geometry and Duality: N=2  2000   \n",
       "1            1002  Domain Walls and Massive Gauged Supergravity P...  2000   \n",
       "2            1003   Comment on  Metric Fluctuations in Brane Worlds   2000   \n",
       "3            1004         Moving Mirrors and Thermodynamic Paradoxes  2000   \n",
       "4            1005  Bundles of chiral blocks and boundary conditio...  2000   \n",
       "...           ...                                                ...   ...   \n",
       "29550     9912290                     Shuffling quantum field theory  1999   \n",
       "29551     9912291  Small object limit of Casimir effect and the s...  1999   \n",
       "29552     9912292                 1/4 PBGS and Superparticle Actions  1999   \n",
       "29553     9912293  Corrections to the Abelian Born-Infeld Action ...  1999   \n",
       "29554     9912294  Relativistic particle interaction with a weak ...  1999   \n",
       "\n",
       "                category                                             detail  \n",
       "0                    NaN    These are notes based on lectures given at T...  \n",
       "1      Class.Quant.Grav.    We point out that massive gauged supergravit...  \n",
       "2                    NaN    Recently- Ivanov and Volovich (hep-th/991224...  \n",
       "3              Phys.Rev.    Quantum fields responding to  moving mirrors...  \n",
       "4                    NaN    Various aspects of spaces of chiral blocks a...  \n",
       "...                  ...                                                ...  \n",
       "29550    Lett.Math.Phys.    We discuss shuffle identities between Feynma...  \n",
       "29551          Phys.Rev.    We show a simple way of deriving the Casimir...  \n",
       "29552                NaN    We construct the worldline superfield massiv...  \n",
       "29553               JHEP    In a recent paper Seiberg and Witten have ar...  \n",
       "29554                NaN    Schrodinger equation with two-component wave...  \n",
       "\n",
       "[29555 rows x 5 columns]"
      ]
     },
     "execution_count": 60,
     "metadata": {},
     "output_type": "execute_result"
    }
   ],
   "source": [
    "articles_df"
   ]
  },
  {
   "cell_type": "code",
   "execution_count": 61,
   "id": "aec53a81",
   "metadata": {},
   "outputs": [
    {
     "name": "stdout",
     "output_type": "stream",
     "text": [
      "Title: Noncompact Symmetries in String Theory PageRank: 111.4072492949247\n",
      "Title: An Algorithm to Generate Classical Solutions for String Effective Action PageRank: 104.46215010591648\n",
      "Title: Monopole Condensation  And Confinement In N=2 Supersymmetric Yang-Mills PageRank: 69.2441980417631\n",
      "Title: String Theory Dynamics In Various Dimensions PageRank: 51.77356445912381\n",
      "Title: Dirichlet-Branes and Ramond-Ramond Charges PageRank: 47.95476019289145\n",
      "Title: Exact Results on the Space of Vacua of Four Dimensional SUSY Gauge PageRank: 45.493041246610844\n",
      "Title: Unity of Superstring Dualities PageRank: 38.579724413635695\n",
      "Title: The Large N Limit of Superconformal Field Theories and Supergravity PageRank: 35.41753806871167\n",
      "Title: Monopoles  Duality and Chiral Symmetry Breaking in N=2 Supersymmetric PageRank: 34.73138332060727\n",
      "Title: Strong-Weak Coupling Duality in Four Dimensional String Theory PageRank: 34.48003869639041\n"
     ]
    }
   ],
   "source": [
    "for node in sorted_nodes[:10]:\n",
    "    article_title = articles_df.loc[articles_df['Article ID'] == node, 'title'].values[0]\n",
    "    article_year = articles_df.loc[articles_df['Article ID'] == node, 'year'].values[0]\n",
    "    article_category = articles_df.loc[articles_df['Article ID'] == node, 'category'].values[0]\n",
    "    \n",
    "    print(\"Title:\", article_title, \"PageRank:\", pagerank[node],'year',article_year,'cat',article_category)\n",
    "    "
   ]
  },
  {
   "cell_type": "code",
   "execution_count": null,
   "id": "277c4025",
   "metadata": {},
   "outputs": [],
   "source": []
  }
 ],
 "metadata": {
  "kernelspec": {
   "display_name": "Python 3 (ipykernel)",
   "language": "python",
   "name": "python3"
  },
  "language_info": {
   "codemirror_mode": {
    "name": "ipython",
    "version": 3
   },
   "file_extension": ".py",
   "mimetype": "text/x-python",
   "name": "python",
   "nbconvert_exporter": "python",
   "pygments_lexer": "ipython3",
   "version": "3.8.2"
  }
 },
 "nbformat": 4,
 "nbformat_minor": 5
}
